{
 "cells": [
  {
   "cell_type": "code",
   "execution_count": 24,
   "id": "8919fd4a-c2f5-4672-a2a0-6d0e1c44de87",
   "metadata": {},
   "outputs": [],
   "source": [
    "import numpy as np\n",
    "import pandas as pd\n",
    "import random"
   ]
  },
  {
   "cell_type": "code",
   "execution_count": 6,
   "id": "fd710437-3a3e-4010-88f4-b7771c0ec39e",
   "metadata": {},
   "outputs": [
    {
     "data": {
      "text/html": [
       "<div>\n",
       "<style scoped>\n",
       "    .dataframe tbody tr th:only-of-type {\n",
       "        vertical-align: middle;\n",
       "    }\n",
       "\n",
       "    .dataframe tbody tr th {\n",
       "        vertical-align: top;\n",
       "    }\n",
       "\n",
       "    .dataframe thead th {\n",
       "        text-align: right;\n",
       "    }\n",
       "</style>\n",
       "<table border=\"1\" class=\"dataframe\">\n",
       "  <thead>\n",
       "    <tr style=\"text-align: right;\">\n",
       "      <th></th>\n",
       "      <th>Sales person</th>\n",
       "      <th>SP ID</th>\n",
       "      <th>Team</th>\n",
       "      <th>Location</th>\n",
       "    </tr>\n",
       "  </thead>\n",
       "  <tbody>\n",
       "    <tr>\n",
       "      <th>0</th>\n",
       "      <td>Barr Faughny</td>\n",
       "      <td>SP01</td>\n",
       "      <td>Yummies</td>\n",
       "      <td>Hyderabad</td>\n",
       "    </tr>\n",
       "    <tr>\n",
       "      <th>1</th>\n",
       "      <td>Dennison Crosswaite</td>\n",
       "      <td>SP02</td>\n",
       "      <td>Yummies</td>\n",
       "      <td>Hyderabad</td>\n",
       "    </tr>\n",
       "    <tr>\n",
       "      <th>2</th>\n",
       "      <td>Gunar Cockshoot</td>\n",
       "      <td>SP03</td>\n",
       "      <td>Yummies</td>\n",
       "      <td>Hyderabad</td>\n",
       "    </tr>\n",
       "    <tr>\n",
       "      <th>3</th>\n",
       "      <td>Wilone O'Kielt</td>\n",
       "      <td>SP04</td>\n",
       "      <td>Delish</td>\n",
       "      <td>Hyderabad</td>\n",
       "    </tr>\n",
       "    <tr>\n",
       "      <th>4</th>\n",
       "      <td>Gigi Bohling</td>\n",
       "      <td>SP05</td>\n",
       "      <td>Delish</td>\n",
       "      <td>Hyderabad</td>\n",
       "    </tr>\n",
       "  </tbody>\n",
       "</table>\n",
       "</div>"
      ],
      "text/plain": [
       "          Sales person SP ID     Team   Location\n",
       "0         Barr Faughny  SP01  Yummies  Hyderabad\n",
       "1  Dennison Crosswaite  SP02  Yummies  Hyderabad\n",
       "2      Gunar Cockshoot  SP03  Yummies  Hyderabad\n",
       "3       Wilone O'Kielt  SP04   Delish  Hyderabad\n",
       "4         Gigi Bohling  SP05   Delish  Hyderabad"
      ]
     },
     "execution_count": 6,
     "metadata": {},
     "output_type": "execute_result"
    }
   ],
   "source": [
    "file_path = 'people.csv'\n",
    "df = pd.read_csv(file_path, encoding='utf-8')\n",
    "df.head()"
   ]
  },
  {
   "cell_type": "code",
   "execution_count": 14,
   "id": "7240f6d4-e83a-49b8-b2cf-6544e8f8d03c",
   "metadata": {},
   "outputs": [
    {
     "name": "stdout",
     "output_type": "stream",
     "text": [
      "barrfaughn@example.com\n",
      "dennisoncr@example.com\n",
      "gunarcocks@example.com\n",
      "wiloneo'ki@example.com\n",
      "gigibohlin@example.com\n",
      "curticeadv@example.com\n",
      "kainepadly@example.com\n",
      "chesbonnel@example.com\n",
      "andriakimp@example.com\n",
      "brienboise@example.com\n",
      "huseinauga@example.com\n",
      "karlenmcca@example.com\n",
      "janmorfort@example.com\n",
      "dottystrut@example.com\n",
      "kelciwalkd@example.com\n",
      "marneyo'br@example.com\n",
      "rafaelitab@example.com\n",
      "madeleneup@example.com\n",
      "beveriemof@example.com\n",
      "obysorrel@example.com\n",
      "malloriewa@example.com\n",
      "jehurudefo@example.com\n",
      "vantuxwell@example.com\n",
      "roddyspeec@example.com\n",
      "camillacas@example.com\n",
      "janenehair@example.com\n",
      "niallseles@example.com\n",
      "eboneeroxb@example.com\n",
      "zachpolon@example.com\n",
      "ortonlivic@example.com\n",
      "grayseamon@example.com\n",
      "bennykarol@example.com\n",
      "dynadoucet@example.com\n"
     ]
    }
   ],
   "source": [
    "\n",
    "emails = []\n",
    "names =  df['Sales person'].str.strip().str.replace(\" \", \"\").str.lower()\n",
    "for fname in names:\n",
    "        email = fname[:10].strip() + '@example.com'\n",
    "        emails.append(email)\n",
    "        print(email)"
   ]
  },
  {
   "cell_type": "code",
   "execution_count": 22,
   "id": "c22ef4d7-1de4-4372-80df-d0a7ac1f4206",
   "metadata": {},
   "outputs": [],
   "source": [
    "countries = [\"Romania\", \"Ungaria\", \"Portugalia\", \"UK\", \"Spania\", \"Grecia\", \"Rusia\", \"Olanda\", \"Norvegia\", \"Suedia\"]"
   ]
  },
  {
   "cell_type": "code",
   "execution_count": 53,
   "id": "7730f24e-8da2-4f03-879c-25384363ead3",
   "metadata": {},
   "outputs": [
    {
     "data": {
      "text/html": [
       "<div>\n",
       "<style scoped>\n",
       "    .dataframe tbody tr th:only-of-type {\n",
       "        vertical-align: middle;\n",
       "    }\n",
       "\n",
       "    .dataframe tbody tr th {\n",
       "        vertical-align: top;\n",
       "    }\n",
       "\n",
       "    .dataframe thead th {\n",
       "        text-align: right;\n",
       "    }\n",
       "</style>\n",
       "<table border=\"1\" class=\"dataframe\">\n",
       "  <thead>\n",
       "    <tr style=\"text-align: right;\">\n",
       "      <th></th>\n",
       "      <th>Sales person</th>\n",
       "      <th>SP ID</th>\n",
       "      <th>Team</th>\n",
       "      <th>Location</th>\n",
       "      <th>Country</th>\n",
       "      <th>Email</th>\n",
       "    </tr>\n",
       "  </thead>\n",
       "  <tbody>\n",
       "    <tr>\n",
       "      <th>0</th>\n",
       "      <td>Barr Faughny</td>\n",
       "      <td>SP01</td>\n",
       "      <td>Yummies</td>\n",
       "      <td>Hyderabad</td>\n",
       "      <td>Grecia</td>\n",
       "      <td>barrfaughn@example.com</td>\n",
       "    </tr>\n",
       "    <tr>\n",
       "      <th>1</th>\n",
       "      <td>Dennison Crosswaite</td>\n",
       "      <td>SP02</td>\n",
       "      <td>Yummies</td>\n",
       "      <td>Hyderabad</td>\n",
       "      <td>Grecia</td>\n",
       "      <td>dennisoncr@example.com</td>\n",
       "    </tr>\n",
       "    <tr>\n",
       "      <th>2</th>\n",
       "      <td>Gunar Cockshoot</td>\n",
       "      <td>SP03</td>\n",
       "      <td>Yummies</td>\n",
       "      <td>Hyderabad</td>\n",
       "      <td>UK</td>\n",
       "      <td>gunarcocks@example.com</td>\n",
       "    </tr>\n",
       "    <tr>\n",
       "      <th>3</th>\n",
       "      <td>Wilone O'Kielt</td>\n",
       "      <td>SP04</td>\n",
       "      <td>Delish</td>\n",
       "      <td>Hyderabad</td>\n",
       "      <td>Romania</td>\n",
       "      <td>wiloneo'ki@example.com</td>\n",
       "    </tr>\n",
       "    <tr>\n",
       "      <th>4</th>\n",
       "      <td>Gigi Bohling</td>\n",
       "      <td>SP05</td>\n",
       "      <td>Delish</td>\n",
       "      <td>Hyderabad</td>\n",
       "      <td>Grecia</td>\n",
       "      <td>gigibohlin@example.com</td>\n",
       "    </tr>\n",
       "  </tbody>\n",
       "</table>\n",
       "</div>"
      ],
      "text/plain": [
       "          Sales person SP ID     Team   Location  Country  \\\n",
       "0         Barr Faughny  SP01  Yummies  Hyderabad   Grecia   \n",
       "1  Dennison Crosswaite  SP02  Yummies  Hyderabad   Grecia   \n",
       "2      Gunar Cockshoot  SP03  Yummies  Hyderabad       UK   \n",
       "3       Wilone O'Kielt  SP04   Delish  Hyderabad  Romania   \n",
       "4         Gigi Bohling  SP05   Delish  Hyderabad   Grecia   \n",
       "\n",
       "                    Email  \n",
       "0  barrfaughn@example.com  \n",
       "1  dennisoncr@example.com  \n",
       "2  gunarcocks@example.com  \n",
       "3  wiloneo'ki@example.com  \n",
       "4  gigibohlin@example.com  "
      ]
     },
     "execution_count": 53,
     "metadata": {},
     "output_type": "execute_result"
    }
   ],
   "source": [
    "df['Country'] = [random.choice(countries) for _ in range(len(df))]\n",
    "df['Email'] = emails\n",
    "df.head(5)"
   ]
  },
  {
   "cell_type": "code",
   "execution_count": 18,
   "id": "ddca1066-da87-437c-b5f9-9552bdb8a4f5",
   "metadata": {},
   "outputs": [],
   "source": [
    "from recombee_api_client.api_client import RecombeeClient\n",
    "from recombee_api_client.api_requests import *\n",
    "\n",
    "client = RecombeeClient('shop-ro-dev', 'IHEe1usNrKqpliHL73JkFPSiIu8DZEc3mvaZyznV458vmdVAb19ipjuD2zjA3d9o')"
   ]
  },
  {
   "cell_type": "code",
   "execution_count": 44,
   "id": "97b82446-507a-4068-b3fa-2f18eb81f09f",
   "metadata": {},
   "outputs": [
    {
     "data": {
      "text/plain": [
       "'ok'"
      ]
     },
     "execution_count": 44,
     "metadata": {},
     "output_type": "execute_result"
    }
   ],
   "source": [
    "# Adaugare proprietati\n",
    "\n",
    "#client.send(AddUserProperty('userName', 'string'))\n",
    "client.send(AddUserProperty('country', 'string'))\n",
    "#lient.send(AddUserProperty('upId', 'string'))\n",
    "client.send(AddUserProperty('team', 'string'))\n",
    "client.send(AddUserProperty('location', 'string'))\n",
    "client.send(AddUserProperty('email', 'string'))"
   ]
  },
  {
   "cell_type": "code",
   "execution_count": 51,
   "id": "7408369f-7686-4d41-804e-74b5820fd36a",
   "metadata": {},
   "outputs": [
    {
     "data": {
      "text/plain": [
       "'ok'"
      ]
     },
     "execution_count": 51,
     "metadata": {},
     "output_type": "execute_result"
    }
   ],
   "source": [
    "client.send(DeleteUserProperty('userName'))\n",
    "#client.send(DeleteUserProperty('team'))\n",
    "#client.send(DeleteUserProperty('location'))\n",
    "#client.send(DeleteUserProperty('email'))\n",
    "#client.send(DeleteUserProperty('country'))"
   ]
  },
  {
   "cell_type": "code",
   "execution_count": 54,
   "id": "4e31f325-96e3-4f9f-9995-16e05e44a20e",
   "metadata": {},
   "outputs": [],
   "source": [
    "import time\n",
    "for index, row in df.iterrows():\n",
    "    values = {\n",
    "        'Name': row['Sales person'],\n",
    "        'team': row['Team'],\n",
    "        'email':row['Email'],\n",
    "        'location': row['Location'],\n",
    "        'country': row['Country']\n",
    "    }\n",
    "    client.send(SetUserValues(row['SP ID'], values, cascade_create=True))"
   ]
  },
  {
   "cell_type": "code",
   "execution_count": 52,
   "id": "cde1cf04-9b05-4ca2-af3c-02efbe7ee7cc",
   "metadata": {},
   "outputs": [],
   "source": [
    "# Delete elements\n",
    "user_ids = client.send(ListUsers())\n",
    "\n",
    "for user_id in user_ids:\n",
    "    client.send(DeleteUser(user_id))"
   ]
  },
  {
   "cell_type": "code",
   "execution_count": null,
   "id": "8fca719f-cf98-4264-b3ad-a566b17eb6df",
   "metadata": {},
   "outputs": [],
   "source": []
  }
 ],
 "metadata": {
  "kernelspec": {
   "display_name": "Python 3 (ipykernel)",
   "language": "python",
   "name": "python3"
  },
  "language_info": {
   "codemirror_mode": {
    "name": "ipython",
    "version": 3
   },
   "file_extension": ".py",
   "mimetype": "text/x-python",
   "name": "python",
   "nbconvert_exporter": "python",
   "pygments_lexer": "ipython3",
   "version": "3.10.12"
  }
 },
 "nbformat": 4,
 "nbformat_minor": 5
}
